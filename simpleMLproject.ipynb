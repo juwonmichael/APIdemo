{
  "nbformat": 4,
  "nbformat_minor": 0,
  "metadata": {
    "colab": {
      "provenance": [],
      "toc_visible": true,
      "authorship_tag": "ABX9TyMLWe4QbKNHRTnK21djMJUN",
      "include_colab_link": true
    },
    "kernelspec": {
      "name": "python3",
      "display_name": "Python 3"
    },
    "language_info": {
      "name": "python"
    }
  },
  "cells": [
    {
      "cell_type": "markdown",
      "metadata": {
        "id": "view-in-github",
        "colab_type": "text"
      },
      "source": [
        "<a href=\"https://colab.research.google.com/github/juwonmichael/APIdemo/blob/main/simpleMLproject.ipynb\" target=\"_parent\"><img src=\"https://colab.research.google.com/assets/colab-badge.svg\" alt=\"Open In Colab\"/></a>"
      ]
    },
    {
      "cell_type": "code",
      "execution_count": null,
      "metadata": {
        "colab": {
          "base_uri": "https://localhost:8080/"
        },
        "id": "TcBWpM5nqeTh",
        "outputId": "56bd72c8-6968-492c-c520-948e78dfc176"
      },
      "outputs": [
        {
          "output_type": "stream",
          "name": "stdout",
          "text": [
            "Message: 'Free Toy' → Predicted: Spam\n",
            "Message: 'See you tomorrow' → Predicted: Ham\n"
          ]
        }
      ],
      "source": [
        "# Step 1: Import ML Tools\n",
        "from sklearn.feature_extraction.text import CountVectorizer\n",
        "from sklearn.naive_bayes import MultinomialNB\n",
        "import re\n",
        "\n",
        "# Step 2: Training Data (Spam vs. Ham)\n",
        "texts = [\n",
        "    \"Win a free iPhone now!\",\n",
        "    \"Limited time offer!\",\n",
        "    \"Hello, how are you?\",\n",
        "    \"Meet me at 5pm\"\n",
        "]\n",
        "labels = [\"Spam\", \"Spam\", \"Ham\", \"Ham\"]\n",
        "\n",
        "# Step 3: Convert text to numbers (Vectorization)\n",
        "vectorizer = CountVectorizer()\n",
        "X_train = vectorizer.fit_transform(texts)\n",
        "\n",
        "# Step 4: Train the Model\n",
        "model = MultinomialNB()\n",
        "model.fit(X_train, labels)\n",
        "\n",
        "# Sanitise Input Function\n",
        "def sanitize_input(text):\n",
        "    cleaned = re.sub(r\"[^a-zA-Z0-9\\s]\", \"\", text)  # Remove special characters\n",
        "    return cleaned.strip()[:280]  # Limit length\n",
        "\n",
        "# Step 5: Test the Model with Sanitisation\n",
        "new_texts = [\"Free Toy!\", \"See you tomorrow!\"]\n",
        "new_texts = [sanitize_input(t) for t in new_texts]\n",
        "\n",
        "X_test = vectorizer.transform(new_texts)\n",
        "predictions = model.predict(X_test)\n",
        "\n",
        "# Step 6: Show Results\n",
        "for text, prediction in zip(new_texts, predictions):\n",
        "    print(f\"Message: '{text}' → Predicted: {prediction}\")"
      ]
    }
  ]
}